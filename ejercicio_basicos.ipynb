{
  "nbformat": 4,
  "nbformat_minor": 0,
  "metadata": {
    "colab": {
      "provenance": [],
      "authorship_tag": "ABX9TyMj23YiyLlw2g+gh950suVN",
      "include_colab_link": true
    },
    "kernelspec": {
      "name": "python3",
      "display_name": "Python 3"
    },
    "language_info": {
      "name": "python"
    }
  },
  "cells": [
    {
      "cell_type": "markdown",
      "metadata": {
        "id": "view-in-github",
        "colab_type": "text"
      },
      "source": [
        "<a href=\"https://colab.research.google.com/github/IvanDavid12/ejercicio_basicos/blob/main/ejercicio_basicos.ipynb\" target=\"_parent\"><img src=\"https://colab.research.google.com/assets/colab-badge.svg\" alt=\"Open In Colab\"/></a>"
      ]
    },
    {
      "cell_type": "markdown",
      "source": [
        "# ejercicios basicos python\n",
        "\n",
        "1. suma de dos numeros\n",
        "2. potencia de un numero"
      ],
      "metadata": {
        "id": "oIkMuZm1ghwJ"
      }
    },
    {
      "cell_type": "code",
      "source": [
        "\n",
        "#suma de dos numero enteros\n",
        "\n",
        "print(\"---------------------------\")\n",
        "print(\"-----SUMA DOS ENTEROS------\")\n",
        "print(\"---------------------------\")\n",
        "\n",
        "#imput\n",
        "\n",
        "x = int(input(\"digite el valor de x:\"))\n",
        "y = int(input(\"digite el valor de y:\"))\n",
        "\n",
        "#processing\n",
        "z = y + X\n",
        "#output\n",
        "print(\"la suma de \",x,\" + \",y,\" es \",z)\n"
      ],
      "metadata": {
        "id": "rXOsGPmdf0T2"
      },
      "execution_count": null,
      "outputs": []
    },
    {
      "cell_type": "code",
      "source": [
        "#potencia de un numero\n",
        "print(\"---------------------------\")\n",
        "print(\"-------potencia------------\")\n",
        "print(\"---------------------------\")\n",
        "\n",
        "#imput\n",
        "\n",
        "x = int(input(\"digite el valor de x:\"))\n",
        "y = int(input(\"digite el valor de y:\"))\n",
        "\n",
        "#processing\n",
        "z = x ** y\n",
        "\n",
        "#output\n",
        "print(x, \"elevado a la \", y,\" es \",z)\n",
        "\n"
      ],
      "metadata": {
        "id": "zZwzPePPkNNp"
      },
      "execution_count": null,
      "outputs": []
    }
  ]
}