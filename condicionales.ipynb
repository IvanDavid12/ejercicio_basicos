{
  "nbformat": 4,
  "nbformat_minor": 0,
  "metadata": {
    "colab": {
      "provenance": [],
      "authorship_tag": "ABX9TyNo9Z+38oJVWlGPR9UdMBUa",
      "include_colab_link": true
    },
    "kernelspec": {
      "name": "python3",
      "display_name": "Python 3"
    },
    "language_info": {
      "name": "python"
    }
  },
  "cells": [
    {
      "cell_type": "markdown",
      "metadata": {
        "id": "view-in-github",
        "colab_type": "text"
      },
      "source": [
        "<a href=\"https://colab.research.google.com/github/IvanDavid12/ejercicio_basicos/blob/main/condicionales.ipynb\" target=\"_parent\"><img src=\"https://colab.research.google.com/assets/colab-badge.svg\" alt=\"Open In Colab\"/></a>"
      ]
    },
    {
      "cell_type": "markdown",
      "source": [
        "#INSTRUCCIONES CONDICIONALES \n",
        "###*if\n",
        "###*if else\n",
        "###*if elif else"
      ],
      "metadata": {
        "id": "9E5ZCKqMos5b"
      }
    },
    {
      "cell_type": "code",
      "source": [
        "print(\"---------------------------\")\n",
        "print(\"----- ------IF ------------\")\n",
        "print(\"---------------------------\")\n",
        "\n",
        "valores = [1, 3, 4, 8]\n",
        "if 5 in valores:\n",
        "    print('está en valores')\n",
        "print('fin')"
      ],
      "metadata": {
        "colab": {
          "base_uri": "https://localhost:8080/"
        },
        "id": "Dn7e_ElwpGlU",
        "outputId": "2272f2c0-04e6-4ca1-c604-9d58ba0ff21a"
      },
      "execution_count": 2,
      "outputs": [
        {
          "output_type": "stream",
          "name": "stdout",
          "text": [
            "fin\n"
          ]
        }
      ]
    },
    {
      "cell_type": "code",
      "execution_count": 3,
      "metadata": {
        "colab": {
          "base_uri": "https://localhost:8080/"
        },
        "id": "pxmtwwyGoglL",
        "outputId": "0843ffd9-3f8d-48e7-ab42-dff815c32c5f"
      },
      "outputs": [
        {
          "output_type": "stream",
          "name": "stdout",
          "text": [
            "5.0\n"
          ]
        }
      ],
      "source": [
        "print(\"---------------------------\")\n",
        "print(\"----------IF ELSE----------\")\n",
        "print(\"---------------------------\")\n",
        "\n",
        "resultado = None\n",
        "x = 10\n",
        "y = 2\n",
        "if y != 0:\n",
        "    resultado = x / y\n",
        "else:\n",
        "    resultado = f'No se puede dividir {x} entre {y}'\n",
        "print(resultado)"
      ]
    },
    {
      "cell_type": "code",
      "source": [
        "print(\"---------------------------\")\n",
        "print(\"-----IF, ELSE Y ELIF-------\")\n",
        "print(\"---------------------------\")\n",
        "\n",
        "x = 28\n",
        "if x < 0:\n",
        "    print(f'{x} es menor que 0')\n",
        "elif x > 0:\n",
        "    print(f'{x} es mayor que 0')\n",
        "else:\n",
        "    print('x es 0')"
      ],
      "metadata": {
        "colab": {
          "base_uri": "https://localhost:8080/"
        },
        "id": "epF-Ei9lp031",
        "outputId": "ee36fe56-7faf-41d9-d15f-4f39ead2479f"
      },
      "execution_count": 5,
      "outputs": [
        {
          "output_type": "stream",
          "name": "stdout",
          "text": [
            "---------------------------\n",
            "-----IF, ELSE Y ELIF-------\n",
            "---------------------------\n",
            "28 es mayor que 0\n"
          ]
        }
      ]
    }
  ]
}